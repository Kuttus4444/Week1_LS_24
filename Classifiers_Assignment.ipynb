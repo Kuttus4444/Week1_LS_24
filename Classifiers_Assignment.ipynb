{
 "cells": [
  {
   "cell_type": "markdown",
   "metadata": {
    "id": "HJM8Y9mh5o4H"
   },
   "source": [
    "#WELCOME\n",
    "In this Assignment, you'll use **Classifier** to predict the output. You are allowed to write/edit between the\n",
    "```# START CODE HERE``` & ```# END CODE HERE``` only.<br>\n",
    "Don't edit the test cells otherwise you'd be failed in the assignment.\n",
    "\n",
    "Upload the ```utils.zip``` file before running the 1st cell.\n",
    "[Demo](https://drive.google.com/file/d/1ebkQR6ikjGottmxa5KL83ZWdjTLvRxbm/view?usp=share_link)\n",
    "\n",
    "**BEST OF LUCK**"
   ]
  },
  {
   "cell_type": "markdown",
   "metadata": {
    "id": "cEl-4aFCkdsB"
   },
   "source": [
    "**RUN THIS CODE TO UNIZP THE REQUIRED FILES**"
   ]
  },
  {
   "cell_type": "code",
   "execution_count": null,
   "metadata": {
    "id": "mCdV1dV8kawl"
   },
   "outputs": [],
   "source": []
  },
  {
   "cell_type": "code",
   "execution_count": 134,
   "metadata": {},
   "outputs": [
    {
     "name": "stdout",
     "output_type": "stream",
     "text": [
      "C:\\Users\\adars\\Downloads\n"
     ]
    }
   ],
   "source": [
    "!chdir"
   ]
  },
  {
   "cell_type": "markdown",
   "metadata": {
    "id": "VA4ZUSGu0Ox3"
   },
   "source": [
    "# Dataset Loading and Pre-Processing"
   ]
  },
  {
   "cell_type": "code",
   "execution_count": 4,
   "metadata": {
    "id": "_tP5JsNsqBsI"
   },
   "outputs": [],
   "source": [
    "import pandas as pd\n",
    "data = pd.read_csv(\"C:/Users/adars/Downloads/utils/content/weather_classification_data.csv\")"
   ]
  },
  {
   "cell_type": "markdown",
   "metadata": {
    "id": "MBHkfY1c0gO6"
   },
   "source": [
    "## Data Info\n",
    "```data.info``` gives info about data-types and number of null objects.  \n",
    "There are no null data, no need to remove any."
   ]
  },
  {
   "cell_type": "code",
   "execution_count": 7,
   "metadata": {
    "id": "O-myJ9LmqG8J"
   },
   "outputs": [
    {
     "name": "stdout",
     "output_type": "stream",
     "text": [
      "<class 'pandas.core.frame.DataFrame'>\n",
      "RangeIndex: 13200 entries, 0 to 13199\n",
      "Data columns (total 11 columns):\n",
      " #   Column                Non-Null Count  Dtype  \n",
      "---  ------                --------------  -----  \n",
      " 0   Temperature           13200 non-null  float64\n",
      " 1   Humidity              13200 non-null  int64  \n",
      " 2   Wind Speed            13200 non-null  float64\n",
      " 3   Precipitation (%)     13200 non-null  float64\n",
      " 4   Cloud Cover           13200 non-null  object \n",
      " 5   Atmospheric Pressure  13200 non-null  float64\n",
      " 6   UV Index              13200 non-null  int64  \n",
      " 7   Season                13200 non-null  object \n",
      " 8   Visibility (km)       13200 non-null  float64\n",
      " 9   Location              13200 non-null  object \n",
      " 10  Weather Type          13200 non-null  object \n",
      "dtypes: float64(5), int64(2), object(4)\n",
      "memory usage: 1.1+ MB\n"
     ]
    }
   ],
   "source": [
    "data.info()"
   ]
  },
  {
   "cell_type": "markdown",
   "metadata": {
    "id": "98kT9K8a1LF9"
   },
   "source": [
    "## Data Shuffling\n",
    "Data Shuffling removes any bias present and creates uniform distribution."
   ]
  },
  {
   "cell_type": "code",
   "execution_count": 10,
   "metadata": {
    "id": "DJ6bkcTbz8kP"
   },
   "outputs": [
    {
     "data": {
      "text/html": [
       "<div>\n",
       "<style scoped>\n",
       "    .dataframe tbody tr th:only-of-type {\n",
       "        vertical-align: middle;\n",
       "    }\n",
       "\n",
       "    .dataframe tbody tr th {\n",
       "        vertical-align: top;\n",
       "    }\n",
       "\n",
       "    .dataframe thead th {\n",
       "        text-align: right;\n",
       "    }\n",
       "</style>\n",
       "<table border=\"1\" class=\"dataframe\">\n",
       "  <thead>\n",
       "    <tr style=\"text-align: right;\">\n",
       "      <th></th>\n",
       "      <th>Temperature</th>\n",
       "      <th>Humidity</th>\n",
       "      <th>Wind Speed</th>\n",
       "      <th>Precipitation (%)</th>\n",
       "      <th>Cloud Cover</th>\n",
       "      <th>Atmospheric Pressure</th>\n",
       "      <th>UV Index</th>\n",
       "      <th>Season</th>\n",
       "      <th>Visibility (km)</th>\n",
       "      <th>Location</th>\n",
       "      <th>Weather Type</th>\n",
       "    </tr>\n",
       "  </thead>\n",
       "  <tbody>\n",
       "    <tr>\n",
       "      <th>2525</th>\n",
       "      <td>18.0</td>\n",
       "      <td>105</td>\n",
       "      <td>10.5</td>\n",
       "      <td>97.0</td>\n",
       "      <td>partly cloudy</td>\n",
       "      <td>1003.85</td>\n",
       "      <td>4</td>\n",
       "      <td>Summer</td>\n",
       "      <td>4.0</td>\n",
       "      <td>mountain</td>\n",
       "      <td>Cloudy</td>\n",
       "    </tr>\n",
       "    <tr>\n",
       "      <th>8872</th>\n",
       "      <td>0.0</td>\n",
       "      <td>31</td>\n",
       "      <td>14.5</td>\n",
       "      <td>45.0</td>\n",
       "      <td>overcast</td>\n",
       "      <td>1060.43</td>\n",
       "      <td>6</td>\n",
       "      <td>Winter</td>\n",
       "      <td>19.5</td>\n",
       "      <td>coastal</td>\n",
       "      <td>Rainy</td>\n",
       "    </tr>\n",
       "    <tr>\n",
       "      <th>1036</th>\n",
       "      <td>18.0</td>\n",
       "      <td>63</td>\n",
       "      <td>7.0</td>\n",
       "      <td>16.0</td>\n",
       "      <td>overcast</td>\n",
       "      <td>1009.44</td>\n",
       "      <td>1</td>\n",
       "      <td>Winter</td>\n",
       "      <td>6.5</td>\n",
       "      <td>coastal</td>\n",
       "      <td>Cloudy</td>\n",
       "    </tr>\n",
       "    <tr>\n",
       "      <th>993</th>\n",
       "      <td>31.0</td>\n",
       "      <td>77</td>\n",
       "      <td>19.5</td>\n",
       "      <td>93.0</td>\n",
       "      <td>partly cloudy</td>\n",
       "      <td>1027.33</td>\n",
       "      <td>12</td>\n",
       "      <td>Winter</td>\n",
       "      <td>4.5</td>\n",
       "      <td>coastal</td>\n",
       "      <td>Sunny</td>\n",
       "    </tr>\n",
       "    <tr>\n",
       "      <th>3739</th>\n",
       "      <td>17.0</td>\n",
       "      <td>91</td>\n",
       "      <td>15.0</td>\n",
       "      <td>76.0</td>\n",
       "      <td>partly cloudy</td>\n",
       "      <td>1013.57</td>\n",
       "      <td>0</td>\n",
       "      <td>Summer</td>\n",
       "      <td>2.0</td>\n",
       "      <td>mountain</td>\n",
       "      <td>Rainy</td>\n",
       "    </tr>\n",
       "  </tbody>\n",
       "</table>\n",
       "</div>"
      ],
      "text/plain": [
       "      Temperature  Humidity  Wind Speed  Precipitation (%)    Cloud Cover  \\\n",
       "2525         18.0       105        10.5               97.0  partly cloudy   \n",
       "8872          0.0        31        14.5               45.0       overcast   \n",
       "1036         18.0        63         7.0               16.0       overcast   \n",
       "993          31.0        77        19.5               93.0  partly cloudy   \n",
       "3739         17.0        91        15.0               76.0  partly cloudy   \n",
       "\n",
       "      Atmospheric Pressure  UV Index  Season  Visibility (km)  Location  \\\n",
       "2525               1003.85         4  Summer              4.0  mountain   \n",
       "8872               1060.43         6  Winter             19.5   coastal   \n",
       "1036               1009.44         1  Winter              6.5   coastal   \n",
       "993                1027.33        12  Winter              4.5   coastal   \n",
       "3739               1013.57         0  Summer              2.0  mountain   \n",
       "\n",
       "     Weather Type  \n",
       "2525       Cloudy  \n",
       "8872        Rainy  \n",
       "1036       Cloudy  \n",
       "993         Sunny  \n",
       "3739        Rainy  "
      ]
     },
     "execution_count": 10,
     "metadata": {},
     "output_type": "execute_result"
    }
   ],
   "source": [
    "from sklearn.utils import shuffle\n",
    "data = shuffle(data)\n",
    "data.head()"
   ]
  },
  {
   "cell_type": "markdown",
   "metadata": {
    "id": "7vKEzz9j19WQ"
   },
   "source": [
    "## Scaling and Labeling\n",
    "Machine can't understand string so all the object datatypes need to be LABELED with integers.<br><br>\n",
    "Why SCALING?<br>\n",
    "You might have noticed one column contains data with large values (of order 1000) whereas some column contain small value data (of order 10). As a result, large value columns get more power/importance than others. To remove this disparity we scaled them to same order/values."
   ]
  },
  {
   "cell_type": "markdown",
   "metadata": {
    "id": "TBg-lPJgzM4Y"
   },
   "source": [
    "**CODE**\n",
    "\n",
    "We need to find the columns with object datatypes.\n",
    "\n",
    "HINT: Use ```data.select_dtypes().columns.tolist()```<br>Reference: [w3schools](https://www.w3schools.com/python/pandas/ref_df_select_dtypes.asp#:~:text=The%20select_dtypes()%20method%20returns,the%20specified%20dtype(s).&text=Note%3A%20You%20must%20specify%20at,you%20will%20get%20an%20error.)"
   ]
  },
  {
   "cell_type": "code",
   "execution_count": 115,
   "metadata": {},
   "outputs": [
    {
     "name": "stdout",
     "output_type": "stream",
     "text": [
      "       Temperature  Humidity  Wind Speed  Precipitation (%)    Cloud Cover  \\\n",
      "2525          18.0       105        10.5               97.0  partly cloudy   \n",
      "8872           0.0        31        14.5               45.0       overcast   \n",
      "1036          18.0        63         7.0               16.0       overcast   \n",
      "993           31.0        77        19.5               93.0  partly cloudy   \n",
      "3739          17.0        91        15.0               76.0  partly cloudy   \n",
      "...            ...       ...         ...                ...            ...   \n",
      "9987          14.0        83        16.5               79.0       overcast   \n",
      "13177         -3.0        94         8.0               50.0       overcast   \n",
      "3319           3.0        90        10.0               88.0       overcast   \n",
      "7822          -7.0        82         0.5               95.0       overcast   \n",
      "5775          31.0        56         7.5               35.0       overcast   \n",
      "\n",
      "       Atmospheric Pressure  UV Index  Season  Visibility (km)  Location  \\\n",
      "2525                1003.85         4  Summer              4.0  mountain   \n",
      "8872                1060.43         6  Winter             19.5   coastal   \n",
      "1036                1009.44         1  Winter              6.5   coastal   \n",
      "993                 1027.33        12  Winter              4.5   coastal   \n",
      "3739                1013.57         0  Summer              2.0  mountain   \n",
      "...                     ...       ...     ...              ...       ...   \n",
      "9987                1014.83         3  Spring              4.0    inland   \n",
      "13177                987.63         1  Winter              4.0    inland   \n",
      "3319                 999.86         0  Winter              5.0  mountain   \n",
      "7822                 994.81         0  Winter              4.0  mountain   \n",
      "5775                1000.05         2  Summer              8.0   coastal   \n",
      "\n",
      "      Weather Type  \n",
      "2525        Cloudy  \n",
      "8872         Rainy  \n",
      "1036        Cloudy  \n",
      "993          Sunny  \n",
      "3739         Rainy  \n",
      "...            ...  \n",
      "9987         Rainy  \n",
      "13177        Snowy  \n",
      "3319         Snowy  \n",
      "7822         Snowy  \n",
      "5775        Cloudy  \n",
      "\n",
      "[13200 rows x 11 columns]\n"
     ]
    }
   ],
   "source": [
    "df=pd.DataFrame(data)\n",
    "newdf = data.select_dtypes(include=['float64','int64']).columns.tolist()\n",
    "edf=data.select_dtypes(exclude=['float64','int64']).columns.tolist()\n",
    "print(df)"
   ]
  },
  {
   "cell_type": "code",
   "execution_count": 16,
   "metadata": {
    "id": "cIIKd53NpRKU"
   },
   "outputs": [
    {
     "name": "stdout",
     "output_type": "stream",
     "text": [
      "Object Columns: ['Cloud Cover', 'Season', 'Location', 'Weather Type']\n",
      "Non Object Columns: ['Temperature', 'Humidity', 'Wind Speed', 'Precipitation (%)', 'Atmospheric Pressure', 'UV Index', 'Visibility (km)']\n"
     ]
    }
   ],
   "source": [
    "# START CODE HERE\n",
    "object_columns = edf\n",
    "non_object_columns =newdf\n",
    "# END CODE HERE\n",
    "print(f\"Object Columns: {object_columns}\\nNon Object Columns: {non_object_columns}\")"
   ]
  },
  {
   "cell_type": "markdown",
   "metadata": {
    "id": "KYlrJpdaAyKH"
   },
   "source": [
    "**TEST** (DON'T EDIT THIS CELL)"
   ]
  },
  {
   "cell_type": "code",
   "execution_count": 19,
   "metadata": {
    "id": "z4-pWLR5_fVf"
   },
   "outputs": [
    {
     "name": "stdout",
     "output_type": "stream",
     "text": [
      "\u001b[32mTest Passed\u001b[0m\n"
     ]
    }
   ],
   "source": [
    "# DON'T EDIT THIS CELL\n",
    "if (object_columns == ['Cloud Cover', 'Season', 'Location', 'Weather Type'] and non_object_columns == ['Temperature', 'Humidity', 'Wind Speed', 'Precipitation (%)', 'Atmospheric Pressure', 'UV Index', 'Visibility (km)']):\n",
    "  print(f\"\\033[32mTest Passed\\033[0m\")\n",
    "else:\n",
    "  print(f\"\\033[31mTest Failed\\033[0m\")"
   ]
  },
  {
   "cell_type": "markdown",
   "metadata": {
    "id": "reVHprk6z_nD"
   },
   "source": [
    "**CODE**\n",
    "\n",
    "We need to convert the object-type columns data into integral labels and scale the non-object-type columns data.\n",
    "\n",
    "HINT: Use ```ColumnTransformer()```<br>Reference: [scikit-learn](https://scikit-learn.org/stable/modules/generated/sklearn.compose.ColumnTransformer.html), [ChatGPT](https://chatgpt.com/c/7f3c1b02-5da0-4c34-bdb2-d999dccb9c2f)"
   ]
  },
  {
   "cell_type": "code",
   "execution_count": 142,
   "metadata": {
    "id": "kVT5qfqarRhF"
   },
   "outputs": [
    {
     "name": "stdout",
     "output_type": "stream",
     "text": [
      "       Cloud Cover  Season  Location  Weather Type  Temperature  Humidity  \\\n",
      "0              3.0     2.0       2.0           0.0    -0.064857  1.797073   \n",
      "1              2.0     3.0       0.0           1.0    -1.100192 -1.867475   \n",
      "2              2.0     3.0       0.0           0.0    -0.064857 -0.282806   \n",
      "3              3.0     3.0       0.0           3.0     0.682886  0.410487   \n",
      "4              3.0     2.0       2.0           1.0    -0.122375  1.103780   \n",
      "...            ...     ...       ...           ...          ...       ...   \n",
      "13195          2.0     1.0       1.0           1.0    -0.294931  0.707613   \n",
      "13196          2.0     3.0       1.0           2.0    -1.272748  1.252343   \n",
      "13197          2.0     3.0       2.0           2.0    -0.927636  1.054259   \n",
      "13198          2.0     3.0       2.0           2.0    -1.502823  0.658092   \n",
      "13199          2.0     2.0       0.0           0.0     0.682886 -0.629452   \n",
      "\n",
      "       Wind Speed  Precipitation (%)  Atmospheric Pressure  UV Index  \\\n",
      "0        0.096665           1.357181             -0.053172 -0.001493   \n",
      "1        0.675666          -0.270600              1.467870  0.517118   \n",
      "2       -0.409962          -1.178401              0.097104 -0.779410   \n",
      "3        1.399419           1.231967              0.578042  2.072951   \n",
      "4        0.748042           0.699808              0.208131 -1.038715   \n",
      "...           ...                ...                   ...       ...   \n",
      "13195    0.965167           0.793719              0.242004 -0.260799   \n",
      "13196   -0.265211          -0.114082             -0.489215 -0.779410   \n",
      "13197    0.024290           1.075450             -0.160435 -1.038715   \n",
      "13198   -1.350840           1.294574             -0.296195 -1.038715   \n",
      "13199   -0.337587          -0.583634             -0.155327 -0.520104   \n",
      "\n",
      "       Visibility (km)  \n",
      "0            -0.433923  \n",
      "1             4.163613  \n",
      "2             0.307615  \n",
      "3            -0.285616  \n",
      "4            -1.027154  \n",
      "...                ...  \n",
      "13195        -0.433923  \n",
      "13196        -0.433923  \n",
      "13197        -0.137308  \n",
      "13198        -0.433923  \n",
      "13199         0.752538  \n",
      "\n",
      "[13200 rows x 11 columns]\n"
     ]
    }
   ],
   "source": [
    "from sklearn.preprocessing import OrdinalEncoder, StandardScaler\n",
    "from sklearn.compose import ColumnTransformer\n",
    "from sklearn.preprocessing import OneHotEncoder\n",
    "from sklearn.pipeline import Pipeline\n",
    "from sklearn.ensemble import RandomForestClassifier\n",
    "\n",
    "# START CODE HERE\n",
    "# Fit and transform the data\n",
    "\n",
    "\n",
    "# Fit and transform the data\n",
    "preprocessor = ColumnTransformer(\n",
    "    transformers=[\n",
    "        ('cat', OrdinalEncoder(), object_columns),\n",
    "        ('num', StandardScaler(), non_object_columns)\n",
    "    ],\n",
    "    remainder='passthrough'  # passthrough other columns (like 'value') as they are\n",
    ")\n",
    "# Fit and transform the data\n",
    "# Add numeric column names\n",
    "# END CODE HERE\n",
    "all_columns = object_columns + non_object_columns\n",
    "model = Pipeline(steps=[\n",
    "    ('preprocessor', preprocessor),  # preprocessing step\n",
    "    ('classifier', RandomForestClassifier())  # classifier\n",
    "])\n",
    "data_scaled_labeled= preprocessor.fit_transform(df)\n",
    "# Create the new DataFrame\n",
    "#data_scaled_labeled= np.delete(data_scaled_labeled, [0,1,2,3,4,5,6,7,8,9,10], axis=1)\n",
    "data_scaled_labeled = pd.DataFrame(data_scaled_labeled, columns=all_columns)\n",
    "print(data_scaled_labeled)"
   ]
  },
  {
   "cell_type": "markdown",
   "metadata": {
    "id": "2AvKGjfJk3cY"
   },
   "source": [
    "**TEST** (DON'T EDIT THIS CELL)"
   ]
  },
  {
   "cell_type": "code",
   "execution_count": 145,
   "metadata": {
    "id": "7mT4H6o5D-mN"
   },
   "outputs": [
    {
     "name": "stdout",
     "output_type": "stream",
     "text": [
      "\u001b[32mTest Passed\u001b[0m\n"
     ]
    }
   ],
   "source": [
    "# DON'T EDIT THIS CELL\n",
    "\n",
    "data_scaled_labeled_check = pd.read_csv('C:/Users/adars/Downloads/utils//content/data_scaled_labeled_check.csv')\n",
    "import numpy as np\n",
    "data_scaled_labeled_values = np.sort(data_scaled_labeled.values,axis=0)\n",
    "data_scaled_labeled_check_values = np.sort(data_scaled_labeled_check.values,axis=0)\n",
    "if np.allclose(data_scaled_labeled_values, data_scaled_labeled_check_values, equal_nan=True):\n",
    "  print(f\"\\033[32mTest Passed\\033[0m\")\n",
    "else:\n",
    "  print(f\"\\033[31mTest Failed\\033[0m\")"
   ]
  },
  {
   "cell_type": "markdown",
   "metadata": {
    "id": "wpIxEziM2EYr"
   },
   "source": [
    "## Data Splitting"
   ]
  },
  {
   "cell_type": "markdown",
   "metadata": {
    "id": "GKCxivFq1rjB"
   },
   "source": [
    "**CODE**\n",
    "\n",
    "We need to drop the Weather Type column from data_scaled_labeled to get the X and pick Weather Type column to get Y\n",
    "\n",
    "Use 90-10 split of data, i.e. 90% for training, 10% for testing"
   ]
  },
  {
   "cell_type": "code",
   "execution_count": 156,
   "metadata": {
    "id": "e-gDICS-mZYG"
   },
   "outputs": [
    {
     "name": "stdout",
     "output_type": "stream",
     "text": [
      "11880\n"
     ]
    }
   ],
   "source": [
    "X = data_scaled_labeled.drop(['Weather Type'],axis=1)\n",
    "y = data_scaled_labeled['Weather Type']\n",
    "\n",
    "from sklearn.model_selection import train_test_split\n",
    "\n",
    "X_train, X_test, y_train, y_test = train_test_split(X,y, test_size = 0.1, random_state = 10)\n",
    "print(len(X_train))"
   ]
  },
  {
   "cell_type": "markdown",
   "metadata": {
    "id": "WjR9MqGMpJ82"
   },
   "source": [
    "**TEST** (DON'T EDIT THIS CELL)"
   ]
  },
  {
   "cell_type": "code",
   "execution_count": 159,
   "metadata": {
    "id": "q5ZtYcaxKzFK"
   },
   "outputs": [
    {
     "name": "stdout",
     "output_type": "stream",
     "text": [
      "\u001b[32mTest Passed\u001b[0m\n",
      "\u001b[32mTest Passed\u001b[0m\n"
     ]
    }
   ],
   "source": [
    "# DON'T EDIT THIS CELL\n",
    "\n",
    "if (len(X_train)==11880 and len(X_test)==1320):\n",
    "  print(f\"\\033[32mTest Passed\\033[0m\")\n",
    "else:\n",
    "  print(f\"\\033[31mTest Failed\\033[0m\")\n",
    "\n",
    "if (len(y_train)==11880 and len(y_test)==1320):\n",
    "  print(f\"\\033[32mTest Passed\\033[0m\")\n",
    "else:\n",
    "  print(f\"\\033[31mTest Failed\\033[0m\")"
   ]
  },
  {
   "cell_type": "code",
   "execution_count": 161,
   "metadata": {
    "id": "uwYLbRwPzNBd"
   },
   "outputs": [
    {
     "data": {
      "text/html": [
       "<div>\n",
       "<style scoped>\n",
       "    .dataframe tbody tr th:only-of-type {\n",
       "        vertical-align: middle;\n",
       "    }\n",
       "\n",
       "    .dataframe tbody tr th {\n",
       "        vertical-align: top;\n",
       "    }\n",
       "\n",
       "    .dataframe thead th {\n",
       "        text-align: right;\n",
       "    }\n",
       "</style>\n",
       "<table border=\"1\" class=\"dataframe\">\n",
       "  <thead>\n",
       "    <tr style=\"text-align: right;\">\n",
       "      <th></th>\n",
       "      <th>Cloud Cover</th>\n",
       "      <th>Season</th>\n",
       "      <th>Location</th>\n",
       "      <th>Temperature</th>\n",
       "      <th>Humidity</th>\n",
       "      <th>Wind Speed</th>\n",
       "      <th>Precipitation (%)</th>\n",
       "      <th>Atmospheric Pressure</th>\n",
       "      <th>UV Index</th>\n",
       "      <th>Visibility (km)</th>\n",
       "    </tr>\n",
       "  </thead>\n",
       "  <tbody>\n",
       "    <tr>\n",
       "      <th>7017</th>\n",
       "      <td>2.0</td>\n",
       "      <td>0.0</td>\n",
       "      <td>0.0</td>\n",
       "      <td>-0.352450</td>\n",
       "      <td>-0.332327</td>\n",
       "      <td>0.748042</td>\n",
       "      <td>0.230256</td>\n",
       "      <td>-0.039462</td>\n",
       "      <td>-0.520104</td>\n",
       "      <td>-0.285616</td>\n",
       "    </tr>\n",
       "    <tr>\n",
       "      <th>12278</th>\n",
       "      <td>3.0</td>\n",
       "      <td>3.0</td>\n",
       "      <td>2.0</td>\n",
       "      <td>-1.157711</td>\n",
       "      <td>1.103780</td>\n",
       "      <td>0.169040</td>\n",
       "      <td>0.073739</td>\n",
       "      <td>-0.181673</td>\n",
       "      <td>-1.038715</td>\n",
       "      <td>-0.878846</td>\n",
       "    </tr>\n",
       "    <tr>\n",
       "      <th>2859</th>\n",
       "      <td>3.0</td>\n",
       "      <td>1.0</td>\n",
       "      <td>2.0</td>\n",
       "      <td>2.350926</td>\n",
       "      <td>0.559050</td>\n",
       "      <td>2.919298</td>\n",
       "      <td>1.325878</td>\n",
       "      <td>0.175872</td>\n",
       "      <td>-1.038715</td>\n",
       "      <td>-1.323769</td>\n",
       "    </tr>\n",
       "    <tr>\n",
       "      <th>5495</th>\n",
       "      <td>0.0</td>\n",
       "      <td>2.0</td>\n",
       "      <td>0.0</td>\n",
       "      <td>1.430628</td>\n",
       "      <td>-0.827536</td>\n",
       "      <td>-0.409962</td>\n",
       "      <td>-1.647953</td>\n",
       "      <td>0.371042</td>\n",
       "      <td>1.554340</td>\n",
       "      <td>0.604230</td>\n",
       "    </tr>\n",
       "    <tr>\n",
       "      <th>8469</th>\n",
       "      <td>2.0</td>\n",
       "      <td>3.0</td>\n",
       "      <td>2.0</td>\n",
       "      <td>-0.870118</td>\n",
       "      <td>0.757134</td>\n",
       "      <td>0.241415</td>\n",
       "      <td>1.231967</td>\n",
       "      <td>-0.542174</td>\n",
       "      <td>-0.260799</td>\n",
       "      <td>-0.730539</td>\n",
       "    </tr>\n",
       "  </tbody>\n",
       "</table>\n",
       "</div>"
      ],
      "text/plain": [
       "       Cloud Cover  Season  Location  Temperature  Humidity  Wind Speed  \\\n",
       "7017           2.0     0.0       0.0    -0.352450 -0.332327    0.748042   \n",
       "12278          3.0     3.0       2.0    -1.157711  1.103780    0.169040   \n",
       "2859           3.0     1.0       2.0     2.350926  0.559050    2.919298   \n",
       "5495           0.0     2.0       0.0     1.430628 -0.827536   -0.409962   \n",
       "8469           2.0     3.0       2.0    -0.870118  0.757134    0.241415   \n",
       "\n",
       "       Precipitation (%)  Atmospheric Pressure  UV Index  Visibility (km)  \n",
       "7017            0.230256             -0.039462 -0.520104        -0.285616  \n",
       "12278           0.073739             -0.181673 -1.038715        -0.878846  \n",
       "2859            1.325878              0.175872 -1.038715        -1.323769  \n",
       "5495           -1.647953              0.371042  1.554340         0.604230  \n",
       "8469            1.231967             -0.542174 -0.260799        -0.730539  "
      ]
     },
     "execution_count": 161,
     "metadata": {},
     "output_type": "execute_result"
    }
   ],
   "source": [
    "X_train.head()"
   ]
  },
  {
   "cell_type": "markdown",
   "metadata": {
    "id": "upeKo2UVs8WH"
   },
   "source": [
    "# Training and Testing\n",
    "Use any suitable classifier to fit the training data and check the accuracy on test data\n",
    "\n",
    "Don't forget to import that library"
   ]
  },
  {
   "cell_type": "markdown",
   "metadata": {
    "id": "amPA5lMY3adM"
   },
   "source": [
    "**CODE**\n",
    "\n",
    "ACCURACY should be more than 90%,\n",
    "\n",
    "1. Fit the model to X_train and y_train\n",
    "2. Find the model score on X_test and y_test"
   ]
  },
  {
   "cell_type": "code",
   "execution_count": 165,
   "metadata": {
    "id": "yei6MWgW0Si9"
   },
   "outputs": [
    {
     "name": "stdout",
     "output_type": "stream",
     "text": [
      "Accuracy: 90.83333333333333\n"
     ]
    }
   ],
   "source": [
    "# START CODE HERE\n",
    "\n",
    "from sklearn.ensemble import RandomForestClassifier\n",
    "\n",
    "model = RandomForestClassifier(n_estimators=100, random_state=42)\n",
    "model.fit(X_train,y_train)\n",
    "score = model.score(X_test,y_test)\n",
    "\n",
    "# END CODE HERE\n",
    "\n",
    "print(\"Accuracy:\", score*100)"
   ]
  },
  {
   "cell_type": "markdown",
   "metadata": {
    "id": "gv0LHa5FuDSU"
   },
   "source": [
    "**TEST** (DON'T EDIT THIS CELL)"
   ]
  },
  {
   "cell_type": "code",
   "execution_count": 168,
   "metadata": {
    "id": "WYopYL5MuAam"
   },
   "outputs": [
    {
     "name": "stdout",
     "output_type": "stream",
     "text": [
      "\u001b[32mTest Passed\u001b[0m\n"
     ]
    }
   ],
   "source": [
    "# DON'T EDIT THIS CELL\n",
    "\n",
    "if (score>0.90):\n",
    "  print(f\"\\033[32mTest Passed\\033[0m\")\n",
    "else:\n",
    "  print(f\"\\033[31mTest Failed\\033[0m\")"
   ]
  },
  {
   "cell_type": "markdown",
   "metadata": {
    "id": "pOnUEVEsuQlA"
   },
   "source": [
    "# Predicting Output (Here, Weather Type) (Optional)"
   ]
  },
  {
   "cell_type": "code",
   "execution_count": 171,
   "metadata": {
    "id": "oAvmODuFwDNl"
   },
   "outputs": [
    {
     "data": {
      "text/html": [
       "<div>\n",
       "<style scoped>\n",
       "    .dataframe tbody tr th:only-of-type {\n",
       "        vertical-align: middle;\n",
       "    }\n",
       "\n",
       "    .dataframe tbody tr th {\n",
       "        vertical-align: top;\n",
       "    }\n",
       "\n",
       "    .dataframe thead th {\n",
       "        text-align: right;\n",
       "    }\n",
       "</style>\n",
       "<table border=\"1\" class=\"dataframe\">\n",
       "  <thead>\n",
       "    <tr style=\"text-align: right;\">\n",
       "      <th></th>\n",
       "      <th>Cloud Cover</th>\n",
       "      <th>Season</th>\n",
       "      <th>Location</th>\n",
       "      <th>Temperature</th>\n",
       "      <th>Humidity</th>\n",
       "      <th>Wind Speed</th>\n",
       "      <th>Precipitation (%)</th>\n",
       "      <th>Atmospheric Pressure</th>\n",
       "      <th>UV Index</th>\n",
       "      <th>Visibility (km)</th>\n",
       "    </tr>\n",
       "  </thead>\n",
       "  <tbody>\n",
       "    <tr>\n",
       "      <th>11923</th>\n",
       "      <td>2.0</td>\n",
       "      <td>0.0</td>\n",
       "      <td>1.0</td>\n",
       "      <td>0.452811</td>\n",
       "      <td>-0.332327</td>\n",
       "      <td>-0.409962</td>\n",
       "      <td>-0.301903</td>\n",
       "      <td>0.018337</td>\n",
       "      <td>-0.260799</td>\n",
       "      <td>0.307615</td>\n",
       "    </tr>\n",
       "    <tr>\n",
       "      <th>2331</th>\n",
       "      <td>3.0</td>\n",
       "      <td>0.0</td>\n",
       "      <td>0.0</td>\n",
       "      <td>-0.409968</td>\n",
       "      <td>0.856176</td>\n",
       "      <td>1.109918</td>\n",
       "      <td>0.887629</td>\n",
       "      <td>-0.185974</td>\n",
       "      <td>-0.260799</td>\n",
       "      <td>-0.582231</td>\n",
       "    </tr>\n",
       "    <tr>\n",
       "      <th>217</th>\n",
       "      <td>2.0</td>\n",
       "      <td>1.0</td>\n",
       "      <td>1.0</td>\n",
       "      <td>-0.294931</td>\n",
       "      <td>0.608571</td>\n",
       "      <td>0.458541</td>\n",
       "      <td>0.699808</td>\n",
       "      <td>0.348192</td>\n",
       "      <td>-0.260799</td>\n",
       "      <td>-0.582231</td>\n",
       "    </tr>\n",
       "    <tr>\n",
       "      <th>1760</th>\n",
       "      <td>2.0</td>\n",
       "      <td>0.0</td>\n",
       "      <td>0.0</td>\n",
       "      <td>-0.122375</td>\n",
       "      <td>-0.134243</td>\n",
       "      <td>0.820417</td>\n",
       "      <td>1.294574</td>\n",
       "      <td>0.246305</td>\n",
       "      <td>-0.520104</td>\n",
       "      <td>-0.878846</td>\n",
       "    </tr>\n",
       "    <tr>\n",
       "      <th>3963</th>\n",
       "      <td>2.0</td>\n",
       "      <td>0.0</td>\n",
       "      <td>0.0</td>\n",
       "      <td>-0.409968</td>\n",
       "      <td>0.212404</td>\n",
       "      <td>0.386166</td>\n",
       "      <td>-1.147097</td>\n",
       "      <td>0.120224</td>\n",
       "      <td>-0.260799</td>\n",
       "      <td>0.455922</td>\n",
       "    </tr>\n",
       "  </tbody>\n",
       "</table>\n",
       "</div>"
      ],
      "text/plain": [
       "       Cloud Cover  Season  Location  Temperature  Humidity  Wind Speed  \\\n",
       "11923          2.0     0.0       1.0     0.452811 -0.332327   -0.409962   \n",
       "2331           3.0     0.0       0.0    -0.409968  0.856176    1.109918   \n",
       "217            2.0     1.0       1.0    -0.294931  0.608571    0.458541   \n",
       "1760           2.0     0.0       0.0    -0.122375 -0.134243    0.820417   \n",
       "3963           2.0     0.0       0.0    -0.409968  0.212404    0.386166   \n",
       "\n",
       "       Precipitation (%)  Atmospheric Pressure  UV Index  Visibility (km)  \n",
       "11923          -0.301903              0.018337 -0.260799         0.307615  \n",
       "2331            0.887629             -0.185974 -0.260799        -0.582231  \n",
       "217             0.699808              0.348192 -0.260799        -0.582231  \n",
       "1760            1.294574              0.246305 -0.520104        -0.878846  \n",
       "3963           -1.147097              0.120224 -0.260799         0.455922  "
      ]
     },
     "execution_count": 171,
     "metadata": {},
     "output_type": "execute_result"
    }
   ],
   "source": [
    "input = X_test.head()\n",
    "input"
   ]
  },
  {
   "cell_type": "code",
   "execution_count": 173,
   "metadata": {
    "id": "jZAkEyqUONIc"
   },
   "outputs": [
    {
     "data": {
      "text/plain": [
       "array([0., 1., 1., 1., 0.])"
      ]
     },
     "execution_count": 173,
     "metadata": {},
     "output_type": "execute_result"
    }
   ],
   "source": [
    "y = model.predict(input)\n",
    "y"
   ]
  },
  {
   "cell_type": "markdown",
   "metadata": {
    "id": "zuNM1UNPyY7p"
   },
   "source": [
    "Here, the outputs are in numbers. We can perform inverse column transfer for getiing the string values.\n"
   ]
  },
  {
   "cell_type": "code",
   "execution_count": null,
   "metadata": {},
   "outputs": [],
   "source": []
  }
 ],
 "metadata": {
  "colab": {
   "provenance": []
  },
  "kernelspec": {
   "display_name": "Python 3 (ipykernel)",
   "language": "python",
   "name": "python3"
  },
  "language_info": {
   "codemirror_mode": {
    "name": "ipython",
    "version": 3
   },
   "file_extension": ".py",
   "mimetype": "text/x-python",
   "name": "python",
   "nbconvert_exporter": "python",
   "pygments_lexer": "ipython3",
   "version": "3.12.4"
  }
 },
 "nbformat": 4,
 "nbformat_minor": 4
}

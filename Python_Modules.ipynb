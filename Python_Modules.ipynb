{
 "cells": [
  {
   "cell_type": "markdown",
   "metadata": {
    "id": "nKMH5Y1T06vH"
   },
   "source": [
    "# Numpy Implementation"
   ]
  },
  {
   "cell_type": "code",
   "execution_count": 8,
   "metadata": {
    "colab": {
     "base_uri": "https://localhost:8080/",
     "height": 106
    },
    "id": "MM8X0T-p06HB",
    "outputId": "33c6927a-14d5-47be-b5a1-75fe21cfe461"
   },
   "outputs": [
    {
     "name": "stdout",
     "output_type": "stream",
     "text": [
      "Passed\n"
     ]
    }
   ],
   "source": [
    "import numpy as np\n",
    "# Create a 2D Numpy array of size 1x3 with elements of your choice\n",
    "arr1=np.array([[1,2,3]])\n",
    "#Your code here\n",
    "\n",
    "# Create a Numpy array of length 50 with zeroes as its elements\n",
    "arr2=np.zeros(50)#Your code here\n",
    "\n",
    "#Create a Numpy array of length 3x2 with elements of your choice\n",
    "arr3=np.array([[1,2],[3,4],[5,6]])#Your code here\n",
    "\n",
    "arr4=np.dot(arr1,arr3)\n",
    "#Multiply arr1 and arr3 using Numpy functions\n",
    "\n",
    "#Change 5th element of arr2 to a different number\n",
    "arr2[4]=5\n",
    "#Your code here\n",
    "\n",
    "if np.shape(arr4)==(1,2) and arr2[4]!=0:\n",
    "  print(\"Passed\")\n",
    "else:\n",
    "  print(\"Fail\")"
   ]
  },
  {
   "cell_type": "code",
   "execution_count": 10,
   "metadata": {
    "id": "KNTXZFd13rgE"
   },
   "outputs": [
    {
     "name": "stdout",
     "output_type": "stream",
     "text": [
      "[[10  1  1]\n",
      " [ 1 10  1]\n",
      " [ 1  1 10]]\n"
     ]
    }
   ],
   "source": [
    "import numpy as np\n",
    "i=np.array([[1,0,0],[0,1,0],[0,0,1]])\n",
    "a=(9*i)+1\n",
    "b=np.dot(a,i)\n",
    "print(b)\n",
    "#Task: Perform the dot product of I and 9I+1 using numpy, here I is referred to as an 3x3 Identity matrix.\n"
   ]
  },
  {
   "cell_type": "markdown",
   "metadata": {
    "id": "rRrOxN-6FXAb"
   },
   "source": [
    "# Pandas Implementation"
   ]
  },
  {
   "cell_type": "code",
   "execution_count": 99,
   "metadata": {
    "id": "EaoIVtKIFenB"
   },
   "outputs": [
    {
     "name": "stdout",
     "output_type": "stream",
     "text": [
      "     Name  Age       City\n",
      "0  Ramesh   25  Bangalore\n",
      "1  Mahesh   30     Mumbai\n",
      "0    25\n",
      "1    30\n",
      "2    35\n",
      "Name: Age, dtype: int64\n",
      "     Name   Age       City\n",
      "0  Ramesh  25.0  Bangalore\n",
      "1  Mahesh  30.0     Mumbai\n",
      "2  Suresh  35.0      Delhi\n"
     ]
    }
   ],
   "source": [
    "import pandas as pd\n",
    "\n",
    "## Create a DataFrame from a dictionary\n",
    "data = {\n",
    "    'Name': ['Ramesh', 'Mahesh', 'Suresh'],\n",
    "    'Age': [25, 30, 35],\n",
    "    'City': ['Bangalore', 'Mumbai', 'Delhi']\n",
    "}\n",
    "#Your code here\n",
    "a = pd.DataFrame(data)\n",
    "#Display the first 2 rows of the data frame\n",
    "print(a.head(2))\n",
    "#Your code here\n",
    "\n",
    "#Print the age column\n",
    "print(a['Age'])\n",
    "#Your code here\n",
    "\n",
    "#Filter rows where age is greater than 26\n",
    "a.drop(a[a['Age'] <= 26].index, inplace = True)\n",
    "#Your code here\n",
    "\n",
    "#Add a new column 'Country' with the value 'India' for all rows\n",
    "#Your code here\n",
    "a['Country']='India'\n",
    "data1 = {\n",
    "    'Name': ['Ramesh', 'Mahesh', 'Suresh'],\n",
    "    'Age': [25, None, 35],\n",
    "    'City': ['Bangalore', 'Mumbai', 'Delhi']\n",
    "}\n",
    "\n",
    "df2= pd.DataFrame(data1)\n",
    "\n",
    "# Fill missing values in the 'Age' column with the mean age\n",
    "mean_age = df2['Age'].mean()\n",
    "df2.fillna({'Age':mean_age}, inplace=True)\n",
    "#Your code here"
   ]
  },
  {
   "cell_type": "markdown",
   "metadata": {
    "id": "uay3H4C8cboE"
   },
   "source": [
    "# Matplotlib Implementation"
   ]
  },
  {
   "cell_type": "code",
   "execution_count": 101,
   "metadata": {
    "colab": {
     "base_uri": "https://localhost:8080/",
     "height": 106
    },
    "id": "i4lccqVxcgE_",
    "outputId": "5f093bf0-5059-4031-d49f-511341e86114"
   },
   "outputs": [
    {
     "data": {
      "image/png": "[encoded data removed]",
      "text/plain": [
       "<Figure size 640x480 with 1 Axes>"
      ]
     },
     "metadata": {},
     "output_type": "display_data"
    }
   ],
   "source": [
    "import matplotlib.pyplot as plt\n",
    "import numpy as np#. Fill your code\n",
    "\n",
    "\n",
    "\n",
    "xpoints=np.array([1,2,3,4])\n",
    "ypoints=np.array([2,4,6,8])\n",
    "\n",
    "#Plot these points without drawing a line\n",
    "#Your code here\n",
    "plt.scatter(xpoints,ypoints)\n",
    "\n",
    "#Plotting with marker: Plot these points with a marker(Star marker)\n",
    "#Your code here\n",
    "plt.plot(xpoints,ypoints,marker='*')\n",
    "\n",
    "#Using fmt format, add circular marker,red color and Dashed line\n",
    "#Your code here\n",
    "plt.plot(xpoints,ypoints,'ro--')\n",
    "#Add xlabel,ylabel and title for the plot.\n",
    "#Your code here\n",
    "plt.xlabel(\"X-axis\")\n",
    "plt.ylabel(\"Y-axis\")\n",
    "#Create a scatter plot for xpoints and ypoints\n",
    "#Your code here\n",
    "plt.scatter(xpoints,ypoints)\n",
    "#Set color to the scatter plot. Blue,Green,Red and yellow color for each point respectively\n",
    "plt.scatter(xpoints,ypoints,color=['b','g','r','y'])\n",
    "plt.show()"
   ]
  },
  {
   "cell_type": "markdown",
   "metadata": {
    "id": "pfe2Fv2tgKq5"
   },
   "source": [
    "# Miscellaneous Modules Implementation"
   ]
  },
  {
   "cell_type": "code",
   "execution_count": null,
   "metadata": {
    "id": "uwET4NZGSCru"
   },
   "outputs": [],
   "source": []
  },
  {
   "cell_type": "code",
   "execution_count": 79,
   "metadata": {
    "id": "a_bTz2PlgRah"
   },
   "outputs": [
    {
     "name": "stdout",
     "output_type": "stream",
     "text": [
      "192\n"
     ]
    }
   ],
   "source": [
    "import random\n",
    "import numpy as np\n",
    "\n",
    "#Set the seed of random to 20\n",
    "#Your code here\n",
    "np.random.seed(20)\n",
    "arr1=np.array([1,24,31,45,73,81,94,25])\n",
    "a=0\n",
    "for i in range(4):\n",
    "    a+=random.choice(arr1)\n",
    "print(a)\n",
    "#Using the random module pick 4 different random numbers from arr1 and return their sum.\n",
    "#Your code here"
   ]
  },
  {
   "cell_type": "code",
   "execution_count": null,
   "metadata": {},
   "outputs": [],
   "source": []
  },
  {
   "cell_type": "code",
   "execution_count": null,
   "metadata": {},
   "outputs": [],
   "source": []
  }
 ],
 "metadata": {
  "colab": {
   "provenance": []
  },
  "kernelspec": {
   "display_name": "Python 3 (ipykernel)",
   "language": "python",
   "name": "python3"
  },
  "language_info": {
   "codemirror_mode": {
    "name": "ipython",
    "version": 3
   },
   "file_extension": ".py",
   "mimetype": "text/x-python",
   "name": "python",
   "nbconvert_exporter": "python",
   "pygments_lexer": "ipython3",
   "version": "3.12.4"
  }
 },
 "nbformat": 4,
 "nbformat_minor": 4
}
